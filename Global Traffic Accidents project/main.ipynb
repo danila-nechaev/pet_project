{
 "cells": [
  {
   "cell_type": "markdown",
   "metadata": {},
   "source": [
    "\n",
    "Глобальный набор данных о дорожно-транспортных происшествиях содержит 10 000 записей о дорожно-транспортных происшествиях из разных мест по всему миру. Он предоставляет важную информацию о характере дорожно-транспортных происшествий, причинах и способствующих факторах, помогая исследователям, политикам и разработчикам искусственного интеллекта анализировать тенденции и повышать безопасность дорожного движения."
   ]
  },
  {
   "cell_type": "code",
   "execution_count": 2,
   "metadata": {},
   "outputs": [
    {
     "data": {
      "text/html": [
       "<div>\n",
       "<style scoped>\n",
       "    .dataframe tbody tr th:only-of-type {\n",
       "        vertical-align: middle;\n",
       "    }\n",
       "\n",
       "    .dataframe tbody tr th {\n",
       "        vertical-align: top;\n",
       "    }\n",
       "\n",
       "    .dataframe thead th {\n",
       "        text-align: right;\n",
       "    }\n",
       "</style>\n",
       "<table border=\"1\" class=\"dataframe\">\n",
       "  <thead>\n",
       "    <tr style=\"text-align: right;\">\n",
       "      <th></th>\n",
       "      <th>Accident ID</th>\n",
       "      <th>Date</th>\n",
       "      <th>Time</th>\n",
       "      <th>Location</th>\n",
       "      <th>Latitude</th>\n",
       "      <th>Longitude</th>\n",
       "      <th>Weather Condition</th>\n",
       "      <th>Road Condition</th>\n",
       "      <th>Vehicles Involved</th>\n",
       "      <th>Casualties</th>\n",
       "      <th>Cause</th>\n",
       "    </tr>\n",
       "  </thead>\n",
       "  <tbody>\n",
       "    <tr>\n",
       "      <th>0</th>\n",
       "      <td>b0dd6f57</td>\n",
       "      <td>2023-04-19</td>\n",
       "      <td>06:39</td>\n",
       "      <td>Mumbai, India</td>\n",
       "      <td>13.488432</td>\n",
       "      <td>-73.290682</td>\n",
       "      <td>Snow</td>\n",
       "      <td>Snowy</td>\n",
       "      <td>5</td>\n",
       "      <td>7</td>\n",
       "      <td>Reckless Driving</td>\n",
       "    </tr>\n",
       "    <tr>\n",
       "      <th>1</th>\n",
       "      <td>debfad09</td>\n",
       "      <td>2023-01-17</td>\n",
       "      <td>02:47</td>\n",
       "      <td>São Paulo, Brazil</td>\n",
       "      <td>-37.798317</td>\n",
       "      <td>-32.244242</td>\n",
       "      <td>Clear</td>\n",
       "      <td>Icy</td>\n",
       "      <td>4</td>\n",
       "      <td>1</td>\n",
       "      <td>Drunk Driving</td>\n",
       "    </tr>\n",
       "    <tr>\n",
       "      <th>2</th>\n",
       "      <td>6d69aa36</td>\n",
       "      <td>2024-04-09</td>\n",
       "      <td>02:55</td>\n",
       "      <td>Sydney, Australia</td>\n",
       "      <td>33.767869</td>\n",
       "      <td>104.869018</td>\n",
       "      <td>Rain</td>\n",
       "      <td>Snowy</td>\n",
       "      <td>1</td>\n",
       "      <td>7</td>\n",
       "      <td>Reckless Driving</td>\n",
       "    </tr>\n",
       "    <tr>\n",
       "      <th>3</th>\n",
       "      <td>425bb1f0</td>\n",
       "      <td>2023-10-10</td>\n",
       "      <td>11:23</td>\n",
       "      <td>Tokyo, Japan</td>\n",
       "      <td>-0.378031</td>\n",
       "      <td>-165.825855</td>\n",
       "      <td>Storm</td>\n",
       "      <td>Wet</td>\n",
       "      <td>4</td>\n",
       "      <td>0</td>\n",
       "      <td>Drunk Driving</td>\n",
       "    </tr>\n",
       "    <tr>\n",
       "      <th>4</th>\n",
       "      <td>90d5cf62</td>\n",
       "      <td>2023-01-02</td>\n",
       "      <td>12:07</td>\n",
       "      <td>Beijing, China</td>\n",
       "      <td>41.254879</td>\n",
       "      <td>-30.776959</td>\n",
       "      <td>Storm</td>\n",
       "      <td>Snowy</td>\n",
       "      <td>3</td>\n",
       "      <td>9</td>\n",
       "      <td>Reckless Driving</td>\n",
       "    </tr>\n",
       "  </tbody>\n",
       "</table>\n",
       "</div>"
      ],
      "text/plain": [
       "  Accident ID        Date   Time           Location   Latitude   Longitude  \\\n",
       "0    b0dd6f57  2023-04-19  06:39      Mumbai, India  13.488432  -73.290682   \n",
       "1    debfad09  2023-01-17  02:47  São Paulo, Brazil -37.798317  -32.244242   \n",
       "2    6d69aa36  2024-04-09  02:55  Sydney, Australia  33.767869  104.869018   \n",
       "3    425bb1f0  2023-10-10  11:23       Tokyo, Japan  -0.378031 -165.825855   \n",
       "4    90d5cf62  2023-01-02  12:07     Beijing, China  41.254879  -30.776959   \n",
       "\n",
       "  Weather Condition Road Condition  Vehicles Involved  Casualties  \\\n",
       "0              Snow          Snowy                  5           7   \n",
       "1             Clear            Icy                  4           1   \n",
       "2              Rain          Snowy                  1           7   \n",
       "3             Storm            Wet                  4           0   \n",
       "4             Storm          Snowy                  3           9   \n",
       "\n",
       "              Cause  \n",
       "0  Reckless Driving  \n",
       "1     Drunk Driving  \n",
       "2  Reckless Driving  \n",
       "3     Drunk Driving  \n",
       "4  Reckless Driving  "
      ]
     },
     "execution_count": 2,
     "metadata": {},
     "output_type": "execute_result"
    }
   ],
   "source": [
    "import pandas as pd\n",
    "#Считываем csv файл\n",
    "df = pd.read_csv(\"global_traffic_accidents.csv\")\n",
    "df.head()"
   ]
  },
  {
   "cell_type": "markdown",
   "metadata": {},
   "source": [
    "Вывод форматов до редактирования "
   ]
  },
  {
   "cell_type": "code",
   "execution_count": 3,
   "metadata": {},
   "outputs": [
    {
     "name": "stdout",
     "output_type": "stream",
     "text": [
      "Accident ID           object\n",
      "Date                  object\n",
      "Time                  object\n",
      "Location              object\n",
      "Latitude             float64\n",
      "Longitude            float64\n",
      "Weather Condition     object\n",
      "Road Condition        object\n",
      "Vehicles Involved      int64\n",
      "Casualties             int64\n",
      "Cause                 object\n",
      "dtype: object\n"
     ]
    }
   ],
   "source": [
    "#форматы\n",
    "print(df.dtypes)"
   ]
  },
  {
   "cell_type": "markdown",
   "metadata": {},
   "source": [
    "Переведем столбец Date в формат datetime для удобной работы"
   ]
  },
  {
   "cell_type": "code",
   "execution_count": 4,
   "metadata": {},
   "outputs": [
    {
     "data": {
      "text/html": [
       "<div>\n",
       "<style scoped>\n",
       "    .dataframe tbody tr th:only-of-type {\n",
       "        vertical-align: middle;\n",
       "    }\n",
       "\n",
       "    .dataframe tbody tr th {\n",
       "        vertical-align: top;\n",
       "    }\n",
       "\n",
       "    .dataframe thead th {\n",
       "        text-align: right;\n",
       "    }\n",
       "</style>\n",
       "<table border=\"1\" class=\"dataframe\">\n",
       "  <thead>\n",
       "    <tr style=\"text-align: right;\">\n",
       "      <th></th>\n",
       "      <th>Accident ID</th>\n",
       "      <th>Date</th>\n",
       "      <th>Time</th>\n",
       "      <th>Location</th>\n",
       "      <th>Latitude</th>\n",
       "      <th>Longitude</th>\n",
       "      <th>Weather Condition</th>\n",
       "      <th>Road Condition</th>\n",
       "      <th>Vehicles Involved</th>\n",
       "      <th>Casualties</th>\n",
       "      <th>Cause</th>\n",
       "    </tr>\n",
       "  </thead>\n",
       "  <tbody>\n",
       "    <tr>\n",
       "      <th>0</th>\n",
       "      <td>b0dd6f57</td>\n",
       "      <td>2023-04-19</td>\n",
       "      <td>06:39</td>\n",
       "      <td>Mumbai, India</td>\n",
       "      <td>13.488432</td>\n",
       "      <td>-73.290682</td>\n",
       "      <td>Snow</td>\n",
       "      <td>Snowy</td>\n",
       "      <td>5</td>\n",
       "      <td>7</td>\n",
       "      <td>Reckless Driving</td>\n",
       "    </tr>\n",
       "    <tr>\n",
       "      <th>1</th>\n",
       "      <td>debfad09</td>\n",
       "      <td>2023-01-17</td>\n",
       "      <td>02:47</td>\n",
       "      <td>São Paulo, Brazil</td>\n",
       "      <td>-37.798317</td>\n",
       "      <td>-32.244242</td>\n",
       "      <td>Clear</td>\n",
       "      <td>Icy</td>\n",
       "      <td>4</td>\n",
       "      <td>1</td>\n",
       "      <td>Drunk Driving</td>\n",
       "    </tr>\n",
       "    <tr>\n",
       "      <th>2</th>\n",
       "      <td>6d69aa36</td>\n",
       "      <td>2024-04-09</td>\n",
       "      <td>02:55</td>\n",
       "      <td>Sydney, Australia</td>\n",
       "      <td>33.767869</td>\n",
       "      <td>104.869018</td>\n",
       "      <td>Rain</td>\n",
       "      <td>Snowy</td>\n",
       "      <td>1</td>\n",
       "      <td>7</td>\n",
       "      <td>Reckless Driving</td>\n",
       "    </tr>\n",
       "    <tr>\n",
       "      <th>3</th>\n",
       "      <td>425bb1f0</td>\n",
       "      <td>2023-10-10</td>\n",
       "      <td>11:23</td>\n",
       "      <td>Tokyo, Japan</td>\n",
       "      <td>-0.378031</td>\n",
       "      <td>-165.825855</td>\n",
       "      <td>Storm</td>\n",
       "      <td>Wet</td>\n",
       "      <td>4</td>\n",
       "      <td>0</td>\n",
       "      <td>Drunk Driving</td>\n",
       "    </tr>\n",
       "    <tr>\n",
       "      <th>4</th>\n",
       "      <td>90d5cf62</td>\n",
       "      <td>2023-01-02</td>\n",
       "      <td>12:07</td>\n",
       "      <td>Beijing, China</td>\n",
       "      <td>41.254879</td>\n",
       "      <td>-30.776959</td>\n",
       "      <td>Storm</td>\n",
       "      <td>Snowy</td>\n",
       "      <td>3</td>\n",
       "      <td>9</td>\n",
       "      <td>Reckless Driving</td>\n",
       "    </tr>\n",
       "  </tbody>\n",
       "</table>\n",
       "</div>"
      ],
      "text/plain": [
       "  Accident ID       Date   Time           Location   Latitude   Longitude  \\\n",
       "0    b0dd6f57 2023-04-19  06:39      Mumbai, India  13.488432  -73.290682   \n",
       "1    debfad09 2023-01-17  02:47  São Paulo, Brazil -37.798317  -32.244242   \n",
       "2    6d69aa36 2024-04-09  02:55  Sydney, Australia  33.767869  104.869018   \n",
       "3    425bb1f0 2023-10-10  11:23       Tokyo, Japan  -0.378031 -165.825855   \n",
       "4    90d5cf62 2023-01-02  12:07     Beijing, China  41.254879  -30.776959   \n",
       "\n",
       "  Weather Condition Road Condition  Vehicles Involved  Casualties  \\\n",
       "0              Snow          Snowy                  5           7   \n",
       "1             Clear            Icy                  4           1   \n",
       "2              Rain          Snowy                  1           7   \n",
       "3             Storm            Wet                  4           0   \n",
       "4             Storm          Snowy                  3           9   \n",
       "\n",
       "              Cause  \n",
       "0  Reckless Driving  \n",
       "1     Drunk Driving  \n",
       "2  Reckless Driving  \n",
       "3     Drunk Driving  \n",
       "4  Reckless Driving  "
      ]
     },
     "execution_count": 4,
     "metadata": {},
     "output_type": "execute_result"
    }
   ],
   "source": [
    "df['Date'] = pd.to_datetime(df['Date'])\n",
    "\n",
    "df.head()"
   ]
  },
  {
   "cell_type": "markdown",
   "metadata": {},
   "source": [
    "Вывод форматов после редактирования "
   ]
  },
  {
   "cell_type": "code",
   "execution_count": 5,
   "metadata": {},
   "outputs": [
    {
     "name": "stdout",
     "output_type": "stream",
     "text": [
      "Accident ID                  object\n",
      "Date                 datetime64[ns]\n",
      "Time                         object\n",
      "Location                     object\n",
      "Latitude                    float64\n",
      "Longitude                   float64\n",
      "Weather Condition            object\n",
      "Road Condition               object\n",
      "Vehicles Involved             int64\n",
      "Casualties                    int64\n",
      "Cause                        object\n",
      "dtype: object\n"
     ]
    }
   ],
   "source": [
    "print(df.dtypes)"
   ]
  },
  {
   "cell_type": "markdown",
   "metadata": {},
   "source": [
    "Статистика (среднее, минимум, максимум и т.д.) по количеству транспортных средств."
   ]
  },
  {
   "cell_type": "code",
   "execution_count": 6,
   "metadata": {},
   "outputs": [
    {
     "name": "stdout",
     "output_type": "stream",
     "text": [
      "count    10000.000000\n",
      "mean         2.999100\n",
      "std          1.408935\n",
      "min          1.000000\n",
      "25%          2.000000\n",
      "50%          3.000000\n",
      "75%          4.000000\n",
      "max          5.000000\n",
      "Name: Vehicles Involved, dtype: float64\n"
     ]
    }
   ],
   "source": [
    "vehicles_summary = df['Vehicles Involved'].describe()\n",
    "print(vehicles_summary)"
   ]
  },
  {
   "cell_type": "markdown",
   "metadata": {},
   "source": [
    "В какие месяцы произошло больше всего аварий"
   ]
  },
  {
   "cell_type": "code",
   "execution_count": 7,
   "metadata": {},
   "outputs": [
    {
     "name": "stdout",
     "output_type": "stream",
     "text": [
      "Month\n",
      "1     817\n",
      "2     808\n",
      "3     840\n",
      "4     765\n",
      "5     874\n",
      "6     864\n",
      "7     836\n",
      "8     834\n",
      "9     869\n",
      "10    822\n",
      "11    828\n",
      "12    843\n",
      "Name: count, dtype: int64\n"
     ]
    }
   ],
   "source": [
    "df['Month'] = df['Date'].dt.month\n",
    "month_counts = df['Month'].value_counts().sort_index()\n",
    "print(month_counts)"
   ]
  },
  {
   "cell_type": "markdown",
   "metadata": {},
   "source": [
    "Гистограмма с количесвом аварий по месяцам "
   ]
  },
  {
   "cell_type": "code",
   "execution_count": 8,
   "metadata": {},
   "outputs": [
    {
     "data": {
      "image/png": "[encoded data removed]",
      "text/plain": [
       "<Figure size 1000x600 with 1 Axes>"
      ]
     },
     "metadata": {},
     "output_type": "display_data"
    }
   ],
   "source": [
    "import matplotlib.pyplot as plt\n",
    "import seaborn as sns\n",
    "\n",
    "df['Month'] = df['Date'].dt.month\n",
    "month_counts = df['Month'].value_counts().sort_index()\n",
    "\n",
    "plt.figure(figsize=(10, 6))  \n",
    "sns.barplot(x=month_counts.index, y=month_counts.values, color='blue')  \n",
    "\n",
    "plt.title('Гистограмма', fontsize=16)\n",
    "plt.xlabel('Месяц', fontsize=14)\n",
    "plt.ylabel('Количество аварий', fontsize=14)\n",
    "plt.xticks(rotation=45)\n",
    "plt.tight_layout()  \n",
    "plt.show()"
   ]
  },
  {
   "cell_type": "markdown",
   "metadata": {},
   "source": [
    "Вывод локаций и количества аварий"
   ]
  },
  {
   "cell_type": "code",
   "execution_count": 9,
   "metadata": {},
   "outputs": [
    {
     "name": "stdout",
     "output_type": "stream",
     "text": [
      "Location\n",
      "São Paulo, Brazil    1032\n",
      "New York, USA        1016\n",
      "Beijing, China       1014\n",
      "Sydney, Australia    1006\n",
      "Toronto, Canada      1003\n",
      "London, UK           1000\n",
      "Paris, France         995\n",
      "Tokyo, Japan          989\n",
      "Mumbai, India         987\n",
      "Berlin, Germany       958\n",
      "Name: count, dtype: int64\n"
     ]
    }
   ],
   "source": [
    "country = df['Location'].value_counts()\n",
    "print(country)\n"
   ]
  },
  {
   "cell_type": "markdown",
   "metadata": {},
   "source": [
    "Гистограмма, которая показывает количество аварий и локации, где эти аварии произошли"
   ]
  },
  {
   "cell_type": "code",
   "execution_count": 10,
   "metadata": {},
   "outputs": [
    {
     "data": {
      "image/png": "[encoded data removed]",
      "text/plain": [
       "<Figure size 1000x600 with 1 Axes>"
      ]
     },
     "metadata": {},
     "output_type": "display_data"
    }
   ],
   "source": [
    "import matplotlib.pyplot as plt\n",
    "import seaborn as sns\n",
    "\n",
    "country = df['Location'].value_counts()\n",
    "\n",
    "plt.figure(figsize=(10, 6))  \n",
    "sns.barplot(x=country.index, y=country.values, color='blue')  \n",
    "\n",
    "plt.title('Гистограмма', fontsize=16)\n",
    "plt.xlabel('Локация', fontsize=14)\n",
    "plt.ylabel('Количество аварий', fontsize=14)\n",
    "plt.xticks(rotation=45)\n",
    "plt.tight_layout()  \n",
    "plt.show()"
   ]
  },
  {
   "cell_type": "markdown",
   "metadata": {},
   "source": [
    "Вывод начала и конца записей в данном датасете"
   ]
  },
  {
   "cell_type": "code",
   "execution_count": 11,
   "metadata": {},
   "outputs": [
    {
     "name": "stdout",
     "output_type": "stream",
     "text": [
      "2023-01-01 00:00:00\n",
      "2024-12-31 00:00:00\n"
     ]
    }
   ],
   "source": [
    "print(df['Date'].min())\n",
    "print(df['Date'].max())"
   ]
  },
  {
   "cell_type": "markdown",
   "metadata": {},
   "source": [
    "Вычисление доли каждой причины аварии для каждой локации"
   ]
  },
  {
   "cell_type": "code",
   "execution_count": 12,
   "metadata": {},
   "outputs": [
    {
     "name": "stdout",
     "output_type": "stream",
     "text": [
      "Cause             Distracted Driving Drunk Driving Mechanical Failure  \\\n",
      "Location                                                                \n",
      "Beijing, China                16.17%        19.72%             15.88%   \n",
      "Berlin, Germany               17.95%        15.24%             17.54%   \n",
      "London, UK                    15.20%        16.60%             16.40%   \n",
      "Mumbai, India                 16.01%        16.41%             16.72%   \n",
      "New York, USA                 17.13%        16.44%             16.83%   \n",
      "Paris, France                 16.28%        16.38%             15.38%   \n",
      "Sydney, Australia             14.41%        17.30%             16.90%   \n",
      "São Paulo, Brazil             18.02%        17.73%             16.18%   \n",
      "Tokyo, Japan                  16.08%        16.08%             16.08%   \n",
      "Toronto, Canada               16.05%        19.54%             17.45%   \n",
      "\n",
      "Cause             Reckless Driving Speeding Weather Conditions  \n",
      "Location                                                        \n",
      "Beijing, China              14.69%   17.16%             16.37%  \n",
      "Berlin, Germany             18.06%   15.66%             15.55%  \n",
      "London, UK                  18.20%   18.00%             15.60%  \n",
      "Mumbai, India               18.24%   15.91%             16.72%  \n",
      "New York, USA               14.07%   17.72%             17.81%  \n",
      "Paris, France               17.09%   18.29%             16.58%  \n",
      "Sydney, Australia           16.40%   17.89%             17.10%  \n",
      "São Paulo, Brazil           16.28%   15.79%             15.99%  \n",
      "Tokyo, Japan                18.10%   15.77%             17.90%  \n",
      "Toronto, Canada             17.55%   13.36%             16.05%  \n"
     ]
    }
   ],
   "source": [
    "group = df.groupby(['Location', 'Cause']).size().unstack(fill_value=0)\n",
    "\n",
    "result = group.div(group.sum(axis=1), axis=0)*100\n",
    "\n",
    "print(result.map(lambda x: f\"{x:.2f}%\"))"
   ]
  },
  {
   "cell_type": "markdown",
   "metadata": {},
   "source": [
    "Вывод локаций с количеством пострадавших в авариях"
   ]
  },
  {
   "cell_type": "code",
   "execution_count": 13,
   "metadata": {},
   "outputs": [
    {
     "name": "stdout",
     "output_type": "stream",
     "text": [
      "Location\n",
      "Beijing, China       5233\n",
      "Berlin, Germany      4827\n",
      "London, UK           4924\n",
      "Mumbai, India        4821\n",
      "New York, USA        4992\n",
      "Paris, France        5004\n",
      "Sydney, Australia    4937\n",
      "São Paulo, Brazil    5124\n",
      "Tokyo, Japan         5017\n",
      "Toronto, Canada      5003\n",
      "Name: Casualties, dtype: int64\n"
     ]
    }
   ],
   "source": [
    "Casualties_and_location = df.groupby('Location')['Casualties'].sum()\n",
    "\n",
    "print(Casualties_and_location)"
   ]
  }
 ],
 "metadata": {
  "kernelspec": {
   "display_name": "Python 3",
   "language": "python",
   "name": "python3"
  },
  "language_info": {
   "codemirror_mode": {
    "name": "ipython",
    "version": 3
   },
   "file_extension": ".py",
   "mimetype": "text/x-python",
   "name": "python",
   "nbconvert_exporter": "python",
   "pygments_lexer": "ipython3",
   "version": "3.10.8"
  }
 },
 "nbformat": 4,
 "nbformat_minor": 2
}
